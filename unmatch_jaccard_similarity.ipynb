{
 "cells": [
  {
   "cell_type": "code",
   "execution_count": 1,
   "id": "d6f75511-e6c1-4884-93e7-23b44f52e278",
   "metadata": {},
   "outputs": [],
   "source": [
    "import numpy as np\n",
    "import pandas as pd\n",
    "from datetime import datetime, timedelta\n",
    "from dateutil.relativedelta import relativedelta\n",
    "import time\n",
    "import os\n",
    "\n",
    "import pymysql.cursors\n",
    "import json\n",
    "import seaborn as sns\n",
    "import matplotlib.pyplot as plt"
   ]
  },
  {
   "cell_type": "code",
   "execution_count": 2,
   "id": "2cd3fd06-e692-47dc-bedd-22194e47c860",
   "metadata": {},
   "outputs": [],
   "source": [
    "with open(\"config.json\", \"r\") as f:\n",
    "    config = json.load(f)"
   ]
  },
  {
   "cell_type": "code",
   "execution_count": 3,
   "id": "5cb22c75-8e34-4933-b243-cc7dbd2f8867",
   "metadata": {},
   "outputs": [],
   "source": [
    "now = datetime.today() - timedelta()\n",
    "date_end = now - timedelta(days = 80)\n",
    "date_start = date_end - timedelta(days = 90)"
   ]
  },
  {
   "cell_type": "code",
   "execution_count": 4,
   "id": "3cb7e5cb-8fac-4dc6-878d-343f4a4dde9b",
   "metadata": {},
   "outputs": [],
   "source": [
    "def get_time_point(date_end, date_start):\n",
    "    \"\"\" Get time points from string date\n",
    "    Args: Argument\n",
    "        day: string date (str) \n",
    "    Return:\n",
    "        start_stamp, end_stamp\n",
    "    \"\"\"\n",
    "    import datetime\n",
    "    end_time = datetime.datetime.strptime(date_end, '%Y-%m-%d')\n",
    "    start_time = datetime.datetime. strptime(date_start,'%Y-%m-%d')\n",
    "    start_stamp = datetime.datetime.timestamp(start_time)*1000\n",
    "    end_stamp = datetime.datetime.timestamp(end_time)*1000\n",
    "    \n",
    "    return start_stamp, end_stamp"
   ]
  },
  {
   "cell_type": "code",
   "execution_count": 5,
   "id": "35743e7f-da18-4ef8-ae0f-3e038add6d86",
   "metadata": {},
   "outputs": [],
   "source": [
    "start_stamp, end_stamp = get_time_point(date_end = str(date_end.date()), date_start = str(date_start.date()))"
   ]
  },
  {
   "cell_type": "code",
   "execution_count": 6,
   "id": "12da5883-27b8-4793-b7ba-3ae8dc4264d3",
   "metadata": {},
   "outputs": [],
   "source": [
    "# Connect to the database\n",
    "connection = pymysql.connect(host=config[\"pdb_noti_info\"][\"host\"],\n",
    "                             user=config[\"pdb_noti_info\"][\"user\"],\n",
    "                             password=config[\"pdb_noti_info\"][\"password\"],\n",
    "                             database=config[\"pdb_noti_info\"][\"database\"],\n",
    "                             charset='utf8mb4',\n",
    "                             cursorclass=pymysql.cursors.DictCursor)\n",
    "\n",
    "with connection:\n",
    "    with connection.cursor() as cursor:\n",
    "        # Read a single record\n",
    "        sql = f\"\"\"SELECT id, valid_from, group_id, data \n",
    "        FROM {config[\"pdb_noti_info\"][\"table_noti\"]} WHERE 1=1 \n",
    "        AND valid_from >= {start_stamp/1000} \n",
    "        AND valid_from <= {end_stamp/1000}\"\"\"\n",
    "        \n",
    "        cursor.execute(sql)\n",
    "        result = cursor.fetchall()\n",
    "        df = pd.DataFrame(result)"
   ]
  },
  {
   "cell_type": "code",
   "execution_count": 7,
   "id": "2b4195d4-1364-4d5f-b47c-1f24d4a37142",
   "metadata": {},
   "outputs": [],
   "source": [
    "df['datetime'] = [datetime.fromtimestamp(x) for x in (df['valid_from']).astype(int)]\n",
    "df['date'] = df.datetime.dt.date"
   ]
  },
  {
   "cell_type": "code",
   "execution_count": 8,
   "id": "eb308427-5e1f-4785-88ee-bb7cce0bed4a",
   "metadata": {},
   "outputs": [],
   "source": [
    "df['data_processed'] = df['data'].str.decode(\"utf-8\")"
   ]
  },
  {
   "cell_type": "code",
   "execution_count": 14,
   "id": "67aa5e8b-ec09-483b-8f80-c4d2562b64dd",
   "metadata": {},
   "outputs": [],
   "source": [
    "def converter(data):\n",
    "    data = json.loads(data)\n",
    "    body = data['payload']['notification']['body']\n",
    "    try:\n",
    "        news_id = data['payload']['data']['customData']['id']\n",
    "    except:\n",
    "        news_id = 0\n",
    "        print(\"news_id not found!\", end=\"\\r\")\n",
    "    return {\n",
    "        'body': body,\n",
    "        'news_id': news_id\n",
    "    }"
   ]
  },
  {
   "cell_type": "code",
   "execution_count": 15,
   "id": "6bad52ee-606f-4c41-b333-89b6eb62b71c",
   "metadata": {},
   "outputs": [
    {
     "name": "stdout",
     "output_type": "stream",
     "text": [
      "news_id not found!\r"
     ]
    }
   ],
   "source": [
    "df['noti_info'] = df['data_processed'].apply(converter)"
   ]
  },
  {
   "cell_type": "code",
   "execution_count": 11,
   "id": "41c49f30-f795-456d-9a19-3db7c657e992",
   "metadata": {},
   "outputs": [],
   "source": [
    "data = pd.concat([df.drop(['noti_info'],axis = 1),\n",
    "                  df['noti_info'].apply(pd.Series)], axis = 1)"
   ]
  },
  {
   "cell_type": "code",
   "execution_count": 12,
   "id": "39a9011b-94ed-4dd9-879e-4913f956e96b",
   "metadata": {},
   "outputs": [],
   "source": [
    "def jaccard_similarity(A, B):\n",
    "    #Find intersection of two sets\n",
    "    nominator = A.intersection(B)\n",
    "\n",
    "    #Find union of two sets\n",
    "    denominator = A.union(B)\n",
    "\n",
    "    #Take the ratio of sizes\n",
    "    similarity = len(nominator)/len(denominator)\n",
    "    \n",
    "    return similarity"
   ]
  },
  {
   "cell_type": "code",
   "execution_count": 13,
   "id": "f8f99388-986a-4e11-a6aa-f425213c9042",
   "metadata": {},
   "outputs": [],
   "source": [
    "data_error = {\n",
    "    \"noti_id\": [],\n",
    "    \"news_id\": [],\n",
    "    \"news_title (title gốc của bài viết)\": [],\n",
    "    \"noti_title (nội dung noti hiển thị)\": []\n",
    "}\n",
    "THRESHOLD_DIFF = 0.1\n",
    "count = 0\n",
    "for i in range(data.shape[0]):\n",
    "    noti_id = data['id'][i]\n",
    "    news_id = data['news_id'][i]\n",
    "    body = data['body'][i]\n",
    "    try:\n",
    "        title = get_title(news_id)\n",
    "    except:\n",
    "        #print(news_id, body)\n",
    "        title = \"Không tìm thấy\"\n",
    "    \n",
    "    if title != body:\n",
    "        title_words = title.split()\n",
    "        body_words = body.split()\n",
    "        jaccard_score = jaccard_similarity(set(title_words), set(body_words))\n",
    "        if jaccard_score < THRESHOLD_DIFF:\n",
    "            count += 1\n",
    "            data_error[\"noti_id\"].append(noti_id)\n",
    "            data_error[\"news_id\"].append(news_id)\n",
    "            data_error[\"noti_title (nội dung noti hiển thị)\"].append(body)\n",
    "            data_error[\"news_title (title gốc của bài viết)\"].append(title)\n",
    "\n",
    "df_error = pd.DataFrame(data=data_error)"
   ]
  }
 ],
 "metadata": {
  "kernelspec": {
   "display_name": "da_trangqh",
   "language": "python",
   "name": "da_trangqh"
  },
  "language_info": {
   "codemirror_mode": {
    "name": "ipython",
    "version": 3
   },
   "file_extension": ".py",
   "mimetype": "text/x-python",
   "name": "python",
   "nbconvert_exporter": "python",
   "pygments_lexer": "ipython3",
   "version": "3.6.9"
  }
 },
 "nbformat": 4,
 "nbformat_minor": 5
}
